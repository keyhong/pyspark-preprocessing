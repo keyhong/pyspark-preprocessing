{
 "cells": [
  {
   "cell_type": "markdown",
   "id": "7c9f6328-ce39-4355-8035-7de376358dad",
   "metadata": {},
   "source": [
    "# Packages Loading"
   ]
  },
  {
   "cell_type": "code",
   "execution_count": 1,
   "id": "f5b029de-2372-4ff8-8227-445dea7cf6c1",
   "metadata": {},
   "outputs": [],
   "source": [
    "from dateutil.relativedelta import relativedelta\n",
    "from datetime import datetime as dt\n",
    "import os\n",
    "\n",
    "import pandas as pd\n",
    "from pyspark.sql import SparkSession\n",
    "import pyspark.sql.functions as F"
   ]
  },
  {
   "cell_type": "markdown",
   "id": "91e13149-a460-4a86-8cfc-8c84041c0972",
   "metadata": {},
   "source": [
    "# Spark Config Setting"
   ]
  },
  {
   "cell_type": "code",
   "execution_count": 2,
   "id": "f1577972-6da0-4a37-91ab-f27a72e71f58",
   "metadata": {},
   "outputs": [],
   "source": [
    "SPARK_JAR_DIR = os.getenv(\"SPARK_JAR_DIR\", \"/opt/spark/jars\")\n",
    "\n",
    "SPARK_STAND_ALONE_CORES = {\n",
    "    \"spark.cores.max\": 3\n",
    "}\n",
    "\n",
    "SPARK_DRIVER_CONFIGS = {\n",
    "    \"spark.driver.memory\": \"1g\"\n",
    "}\n",
    "\n",
    "SPARK_EXECUTOR_CONFIGS = {\n",
    "    \"spark.executor.cores\": 1,\n",
    "    \"spark.executor.instances\": 1,\n",
    "    \"spark.executor.memory\": \"1g\",\n",
    "}\n",
    "\n",
    "spark = SparkSession.builder \\\n",
    "    .appName(\"etl_snapshot\") \\\n",
    "    .master(\"spark://spark-master:7077\") \\\n",
    "    .config(\"spark.jars\", f\"{SPARK_JAR_DIR}/mysql-connector-java-8.0.28.jar\") \\\n",
    "    .config(\"spark.ui.port\", \"4040\") \\\n",
    "    .config(map=SPARK_DRIVER_CONFIGS) \\\n",
    "    .config(map=SPARK_EXECUTOR_CONFIGS) \\\n",
    "    .config(map=SPARK_STAND_ALONE_CORES) \\\n",
    "    .getOrCreate()\n",
    "\n",
    "spark.sparkContext.setJobGroup(\"snap_monthly_user_purchase_frequency_and_monetary\", \"The overall quartiles of the total purchase amount and total number of purchases per user over one year\", interruptOnCancel=False)"
   ]
  },
  {
   "cell_type": "markdown",
   "id": "fc6dfeb9-6d23-4f8d-be28-24cbd385427a",
   "metadata": {},
   "source": [
    "# RDB Connection Info"
   ]
  },
  {
   "cell_type": "code",
   "execution_count": 3,
   "id": "bf98fa3d-a5f9-496d-bf2b-dcb776fde613",
   "metadata": {},
   "outputs": [],
   "source": [
    "DB_CONN_INFO = {\n",
    "    \"user\": \"root\",\n",
    "    \"password\": \"root\",\n",
    "    \"url\": \"jdbc:mysql://mysql:3306/mysql\",\n",
    "    \"driver\": \"com.mysql.cj.jdbc.Driver\"\n",
    "}"
   ]
  },
  {
   "cell_type": "markdown",
   "id": "c1259bd8-23a8-4762-9c03-bebd6c95ae74",
   "metadata": {},
   "source": [
    "# Data Sourcing Query"
   ]
  },
  {
   "cell_type": "markdown",
   "id": "e62a435f-9279-4b95-a929-cb2f04687f55",
   "metadata": {},
   "source": [
    "### 1. 검색 조건 일자의 전체 데이터 개수 확인"
   ]
  },
  {
   "cell_type": "code",
   "execution_count": 4,
   "id": "f29d98ad-54a6-4511-bbb0-9e4f0b8f0871",
   "metadata": {},
   "outputs": [],
   "source": [
    "start_de = \"2016-06-01\"\n",
    "end_de = \"2022-07-31\""
   ]
  },
  {
   "cell_type": "markdown",
   "id": "eb3f3449-c355-41d9-81c2-71ee78f76978",
   "metadata": {},
   "source": [
    "### 2. 검색 조건에 부합하는 전체 데이터 셋 집합 카운트 수 산출"
   ]
  },
  {
   "cell_type": "code",
   "execution_count": 5,
   "id": "351050c9-ca5f-4623-a579-41875804827d",
   "metadata": {
    "scrolled": true
   },
   "outputs": [],
   "source": [
    "count_sql = f\"\"\"\n",
    "    SELECT COUNT(*)\n",
    "    FROM dm.dm_f_ordr\n",
    "    WHERE ORDR_DE BETWEEN '{start_de}' AND '{end_de}'\n",
    "\"\"\"\n",
    "\n",
    "# 검색할 범주의 전체 행의 개수 산출 (파티션 수를 균등하게 분할하여 읽기 위한 전체 개수 탐색)\n",
    "row_count_sql = spark.read.format(\"jdbc\") \\\n",
    "    .options(**DB_CONN_INFO) \\\n",
    "    .option(\"query\", count_sql) \\\n",
    "    .load()\n",
    "\n",
    "row_count = row_count_sql.first()[0]"
   ]
  },
  {
   "cell_type": "code",
   "execution_count": 6,
   "id": "af696855-00b1-476d-bb02-69d2f2e3d9d7",
   "metadata": {},
   "outputs": [
    {
     "name": "stdout",
     "output_type": "stream",
     "text": [
      "== Physical Plan ==\n",
      "* Scan JDBCRelation((\n",
      "    SELECT COUNT(*)\n",
      "    FROM dm.dm_f_ordr\n",
      "    WHERE ORDR_DE BETWEEN '2016-06-01' AND '2022-07-31'\n",
      ") SPARK_GEN_SUBQ_0) [numPartitions=1]  (1)\n",
      "\n",
      "\n",
      "(1) Scan JDBCRelation((\n",
      "    SELECT COUNT(*)\n",
      "    FROM dm.dm_f_ordr\n",
      "    WHERE ORDR_DE BETWEEN '2016-06-01' AND '2022-07-31'\n",
      ") SPARK_GEN_SUBQ_0) [numPartitions=1]  [codegen id : 1]\n",
      "Output [1]: [COUNT(*)#0L]\n",
      "ReadSchema: struct<COUNT(*):bigint>\n",
      "\n",
      "\n"
     ]
    }
   ],
   "source": [
    "row_count_sql.explain(extended=\"formatted\")"
   ]
  },
  {
   "cell_type": "markdown",
   "id": "a60d8e13-6c33-4311-96c2-4256c13b868c",
   "metadata": {},
   "source": [
    "### 3. 여러 개의 파티션으로 균등 분할하여 데이터 Read"
   ]
  },
  {
   "cell_type": "code",
   "execution_count": 7,
   "id": "5a4e63d6-dac3-407b-8bf3-59114a83ccab",
   "metadata": {},
   "outputs": [
    {
     "data": {
      "text/plain": [
       "DataFrame[CUST_ID: int, ORDR_DE: date, GDS_ORDR_GRAMT: bigint, row_num: decimal(20,0)]"
      ]
     },
     "execution_count": 7,
     "metadata": {},
     "output_type": "execute_result"
    }
   ],
   "source": [
    "dbtable = f\"\"\"(\n",
    "    SELECT CUST_ID\n",
    "         , ORDR_DE\n",
    "         , GDS_ORDR_GRAMT\n",
    "         , ROW_NUMBER () OVER () AS row_num\n",
    "      FROM dm.dm_f_ordr\n",
    "     WHERE ORDR_DE BETWEEN '{start_de}' AND '{end_de}'\n",
    ") as subquery\"\"\"\n",
    "\n",
    "sdf = spark.read.format(\"jdbc\") \\\n",
    "    .options(**DB_CONN_INFO) \\\n",
    "    .option(\"numPartitions\", 6) \\\n",
    "    .option(\"dbtable\", dbtable) \\\n",
    "    .option(\"partitionColumn\", \"row_num\") \\\n",
    "    .option(\"lowerBound\", 1) \\\n",
    "    .option(\"upperBound\", row_count) \\\n",
    "    .load()\n",
    "\n",
    "sdf.cache()"
   ]
  },
  {
   "cell_type": "code",
   "execution_count": 8,
   "id": "9046ed35-6fac-4321-8702-15b755d40e3f",
   "metadata": {},
   "outputs": [
    {
     "name": "stdout",
     "output_type": "stream",
     "text": [
      "+-------+----------+--------------+-------+\n",
      "|CUST_ID|   ORDR_DE|GDS_ORDR_GRAMT|row_num|\n",
      "+-------+----------+--------------+-------+\n",
      "|  31256|2021-06-05|         64894|      1|\n",
      "|  26434|2020-11-09|        399291|      2|\n",
      "|  17423|2019-02-28|        390872|      3|\n",
      "|  43395|2020-10-24|        131010|      4|\n",
      "|  62403|2022-04-21|        263498|      5|\n",
      "|  45912|2018-02-08|        308287|      6|\n",
      "|  49334|2018-10-07|        261020|      7|\n",
      "|   5717|2020-07-18|        372006|      8|\n",
      "|  75454|2018-12-23|        364607|      9|\n",
      "|  44294|2019-01-26|        266197|     10|\n",
      "|  36742|2021-04-23|        156340|     11|\n",
      "|  50914|2018-09-23|        103125|     12|\n",
      "|  40261|2021-11-16|        217838|     13|\n",
      "|  27813|2021-10-04|        561276|     14|\n",
      "|  97451|2022-03-06|        249606|     15|\n",
      "|  18974|2020-11-19|        301996|     16|\n",
      "|  26522|2021-10-04|       1091334|     17|\n",
      "|  59659|2021-04-23|        239181|     18|\n",
      "|  29140|2020-12-09|        398409|     19|\n",
      "|  66591|2018-02-22|        150312|     20|\n",
      "+-------+----------+--------------+-------+\n",
      "only showing top 20 rows\n",
      "\n"
     ]
    }
   ],
   "source": [
    "sdf.show()"
   ]
  },
  {
   "cell_type": "code",
   "execution_count": 9,
   "id": "c62847c8-def0-4b95-b232-2995e1a2fed2",
   "metadata": {},
   "outputs": [
    {
     "data": {
      "text/plain": [
       "[(0, 135995), (1, 135993), (2, 135993), (3, 135993), (4, 135993), (5, 135997)]"
      ]
     },
     "execution_count": 9,
     "metadata": {},
     "output_type": "execute_result"
    }
   ],
   "source": [
    "# 파티션별 (파티션 인덱스, 데이터) 개수 => 6개 파티션으로 데이터를 분할해서 읽음 (각 파티션에는 customer_id별로 모아져있음)\n",
    "sdf.rdd.mapPartitionsWithIndex(lambda idx, it: [(idx, sum(1 for _ in it))]).collect()"
   ]
  },
  {
   "cell_type": "code",
   "execution_count": 10,
   "id": "7581ccfa-c96e-4719-ae7b-77ae40f3556b",
   "metadata": {},
   "outputs": [
    {
     "data": {
      "text/plain": [
       "6"
      ]
     },
     "execution_count": 10,
     "metadata": {},
     "output_type": "execute_result"
    }
   ],
   "source": [
    "# 파티션 개수\n",
    "sdf.rdd.getNumPartitions()"
   ]
  },
  {
   "cell_type": "code",
   "execution_count": 11,
   "id": "c28eeb0f-80a6-4517-8f75-c9c97e706a18",
   "metadata": {},
   "outputs": [
    {
     "name": "stdout",
     "output_type": "stream",
     "text": [
      "root\n",
      " |-- CUST_ID: integer (nullable = true)\n",
      " |-- ORDR_DE: date (nullable = true)\n",
      " |-- GDS_ORDR_GRAMT: long (nullable = true)\n",
      " |-- row_num: decimal(20,0) (nullable = true)\n",
      "\n"
     ]
    }
   ],
   "source": [
    "# schema 출력\n",
    "sdf.printSchema()"
   ]
  },
  {
   "cell_type": "markdown",
   "id": "1d39bb72-aead-479c-89a5-bb7e40307ef2",
   "metadata": {},
   "source": [
    "# 매월 스냅샷 쿼리 (멱등성 처리)"
   ]
  },
  {
   "cell_type": "code",
   "execution_count": 12,
   "id": "0682cc39-7365-4630-9d30-8cecbe212dcf",
   "metadata": {
    "scrolled": true
   },
   "outputs": [],
   "source": [
    "date_range = []\n",
    "\n",
    "for dt in pd.date_range(start=start_de, end=end_de, freq='MS'):\n",
    "    snapshot_stdr_de = dt.date() \n",
    "    one_year_ago_de = snapshot_stdr_de - relativedelta(years=1) # 1년 전의 날짜 구하기\n",
    "    one_day_before_de = snapshot_stdr_de - relativedelta(days=1) # 하루 전의 날짜 구하기\n",
    "\n",
    "    date_range.append({\n",
    "        \"snapshot_stdr_de\": snapshot_stdr_de,\n",
    "        \"one_year_ago_de\": one_year_ago_de,\n",
    "        \"one_day_before_de\": one_day_before_de\n",
    "    })"
   ]
  },
  {
   "cell_type": "code",
   "execution_count": 13,
   "id": "72fc1a6c-2d66-468f-bf23-8db868150c9c",
   "metadata": {},
   "outputs": [],
   "source": [
    "# 빈 Pandas DataFrame 생성\n",
    "result_pdf = pd.DataFrame(\n",
    "    columns=[\n",
    "        \"ORDR_DE\", \"INTERVAL_START_DE\", \"INTERVAL_END_DE\",\n",
    "        \"ALL_USER_GDS_ORDR_GRAMT_Q1\", \"ALL_USER_GDS_ORDR_GRAMT_Q2\", \"ALL_USER_GDS_ORDR_GRAMT_Q3\",\n",
    "        \"ALL_USER_PURCHASE_CNT_Q1\", \"ALL_USER_PURCHASE_CNT_Q2\", \"ALL_USER_PURCHASE_CNT_Q3\"\n",
    "    ]\n",
    ")\n",
    "\n",
    "for row in date_range:\n",
    "\n",
    "    sdf_2 = sdf.filter(F.col(\"ORDR_DE\").between(row[\"one_year_ago_de\"], row[\"one_day_before_de\"])).select([\"CUST_ID\", \"ORDR_DE\", \"GDS_ORDR_GRAMT\"])\n",
    "    \n",
    "    sdf_3 = sdf_2.groupBy(\"CUST_ID\").agg(\n",
    "        F.sum(\"GDS_ORDR_GRAMT\").alias(\"USER_GDS_ORDR_GRAMT\"),\n",
    "        F.count(\"*\").alias(\"USER_PURCHASE_CNT\")\n",
    "    )\n",
    "\n",
    "    user_gds_ordr_gramt = sdf_3.approxQuantile(col=\"USER_GDS_ORDR_GRAMT\", probabilities=[0.25, 0.5, 0.75], relativeError=0)\n",
    "    if not user_gds_ordr_gramt:\n",
    "        user_gds_ordr_gramt = [pd.NA, pd.NA, pd.NA]\n",
    "        \n",
    "    user_purchase_cnt = sdf_3.approxQuantile(col=\"USER_PURCHASE_CNT\", probabilities=[0.25, 0.5, 0.75], relativeError=0)\n",
    "    if not user_purchase_cnt:\n",
    "        user_purchase_cnt = [pd.NA, pd.NA, pd.NA]\n",
    "    \n",
    "    data = [{\n",
    "        'ORDR_DE': row[\"snapshot_stdr_de\"],\n",
    "        \"INTERVAL_START_DE\": row[\"one_year_ago_de\"],\n",
    "        \"INTERVAL_END_DE\": row[\"one_day_before_de\"],\n",
    "        \"ALL_USER_GDS_ORDR_GRAMT_Q1\": user_gds_ordr_gramt[0],\n",
    "        \"ALL_USER_GDS_ORDR_GRAMT_Q2\": user_gds_ordr_gramt[1],\n",
    "        \"ALL_USER_GDS_ORDR_GRAMT_Q3\": user_gds_ordr_gramt[2],\n",
    "        \"ALL_USER_PURCHASE_CNT_Q1\": user_purchase_cnt[0],\n",
    "        \"ALL_USER_PURCHASE_CNT_Q2\": user_purchase_cnt[1],\n",
    "        \"ALL_USER_PURCHASE_CNT_Q3\": user_purchase_cnt[2]\n",
    "    }]\n",
    "    \n",
    "    result_pdf = pd.concat(objs=[result_pdf, pd.DataFrame(data)], ignore_index=True)"
   ]
  },
  {
   "cell_type": "code",
   "execution_count": 14,
   "id": "42cdc1f5-6b53-4291-b089-bf614d518b92",
   "metadata": {},
   "outputs": [
    {
     "name": "stdout",
     "output_type": "stream",
     "text": [
      "+-------+----------+--------------+\n",
      "|CUST_ID|   ORDR_DE|GDS_ORDR_GRAMT|\n",
      "+-------+----------+--------------+\n",
      "|  62403|2022-04-21|        263498|\n",
      "|  40261|2021-11-16|        217838|\n",
      "|  27813|2021-10-04|        561276|\n",
      "|  97451|2022-03-06|        249606|\n",
      "|  26522|2021-10-04|       1091334|\n",
      "|  89268|2022-06-14|        484149|\n",
      "|   9142|2021-08-11|        894014|\n",
      "|  35635|2021-08-17|        159304|\n",
      "|  10354|2022-03-28|        320944|\n",
      "|   9098|2021-07-10|        244603|\n",
      "|   4947|2022-06-08|       2304014|\n",
      "|  24360|2021-09-04|        212495|\n",
      "|  85994|2022-03-15|        107074|\n",
      "|  73911|2021-08-12|        631122|\n",
      "|   9333|2021-09-14|        430180|\n",
      "|  81864|2021-07-12|        655805|\n",
      "|  55615|2021-10-08|        161544|\n",
      "|  46242|2021-12-27|        297547|\n",
      "|  87476|2022-06-08|        911511|\n",
      "|  36973|2021-12-27|        259551|\n",
      "+-------+----------+--------------+\n",
      "only showing top 20 rows\n",
      "\n"
     ]
    }
   ],
   "source": [
    "sdf_2.show()"
   ]
  },
  {
   "cell_type": "code",
   "execution_count": 15,
   "id": "190143b4-88f6-462d-9cd3-34fb67b495f3",
   "metadata": {},
   "outputs": [
    {
     "name": "stdout",
     "output_type": "stream",
     "text": [
      "+-------+------------------+-------------------+------------------+\n",
      "|summary|           CUST_ID|USER_GDS_ORDR_GRAMT| USER_PURCHASE_CNT|\n",
      "+-------+------------------+-------------------+------------------+\n",
      "|  count|             37775|              37775|             37775|\n",
      "|   mean| 49834.32158835208| 4292998.7461283915| 7.924394440767704|\n",
      "| stddev|28971.336529102467|  6122497.456485517|10.469767621987682|\n",
      "|    min|                 3|              29257|                 1|\n",
      "|    max|             99998|          108079558|               172|\n",
      "+-------+------------------+-------------------+------------------+\n",
      "\n"
     ]
    }
   ],
   "source": [
    "sdf_3.describe().show()"
   ]
  },
  {
   "cell_type": "code",
   "execution_count": 16,
   "id": "afa00181-138b-4060-a109-fa6f1a2aad93",
   "metadata": {},
   "outputs": [
    {
     "data": {
      "text/plain": [
       "[(0, 18652), (1, 19123)]"
      ]
     },
     "execution_count": 16,
     "metadata": {},
     "output_type": "execute_result"
    }
   ],
   "source": [
    "# 파티션별 (파티션 인덱스, 데이터) 개수 => groupBy흘 실행했기 때문에 하나의 노드, 하나의 파티션으로 통합\n",
    "sdf_3.rdd.mapPartitionsWithIndex(lambda idx, it: [(idx, sum(1 for _ in it))]).collect()"
   ]
  },
  {
   "cell_type": "code",
   "execution_count": 17,
   "id": "b6eef477-3c20-4967-a71d-e56a511b3f09",
   "metadata": {
    "scrolled": true
   },
   "outputs": [],
   "source": [
    "int_type_cols = (\"ALL_USER_GDS_ORDR_GRAMT_Q1\", \"ALL_USER_GDS_ORDR_GRAMT_Q2\", \"ALL_USER_GDS_ORDR_GRAMT_Q3\", \"ALL_USER_PURCHASE_CNT_Q1\", \"ALL_USER_PURCHASE_CNT_Q2\", \"ALL_USER_PURCHASE_CNT_Q3\")\n",
    "\n",
    "for col in int_type_cols:\n",
    "    result_pdf[col] = result_pdf[col].astype(\"Int64\")"
   ]
  },
  {
   "cell_type": "code",
   "execution_count": 18,
   "id": "eaa4b995-9c46-4c3b-b2bb-253f2b69f392",
   "metadata": {},
   "outputs": [],
   "source": [
    "result_pdf.to_excel(\"snap_monthly_user_purchase_frequency_and_monetary.xlsx\", index=False)"
   ]
  },
  {
   "cell_type": "code",
   "execution_count": 19,
   "id": "e5216909-51b4-4046-9d59-670505f4a0cb",
   "metadata": {},
   "outputs": [
    {
     "data": {
      "text/html": [
       "<div>\n",
       "<style scoped>\n",
       "    .dataframe tbody tr th:only-of-type {\n",
       "        vertical-align: middle;\n",
       "    }\n",
       "\n",
       "    .dataframe tbody tr th {\n",
       "        vertical-align: top;\n",
       "    }\n",
       "\n",
       "    .dataframe thead th {\n",
       "        text-align: right;\n",
       "    }\n",
       "</style>\n",
       "<table border=\"1\" class=\"dataframe\">\n",
       "  <thead>\n",
       "    <tr style=\"text-align: right;\">\n",
       "      <th></th>\n",
       "      <th>ORDR_DE</th>\n",
       "      <th>INTERVAL_START_DE</th>\n",
       "      <th>INTERVAL_END_DE</th>\n",
       "      <th>ALL_USER_GDS_ORDR_GRAMT_Q1</th>\n",
       "      <th>ALL_USER_GDS_ORDR_GRAMT_Q2</th>\n",
       "      <th>ALL_USER_GDS_ORDR_GRAMT_Q3</th>\n",
       "      <th>ALL_USER_PURCHASE_CNT_Q1</th>\n",
       "      <th>ALL_USER_PURCHASE_CNT_Q2</th>\n",
       "      <th>ALL_USER_PURCHASE_CNT_Q3</th>\n",
       "    </tr>\n",
       "  </thead>\n",
       "  <tbody>\n",
       "    <tr>\n",
       "      <th>64</th>\n",
       "      <td>2021-10-01</td>\n",
       "      <td>2020-10-01</td>\n",
       "      <td>2021-09-30</td>\n",
       "      <td>443391</td>\n",
       "      <td>1406268</td>\n",
       "      <td>4200380</td>\n",
       "      <td>1</td>\n",
       "      <td>3</td>\n",
       "      <td>8</td>\n",
       "    </tr>\n",
       "    <tr>\n",
       "      <th>65</th>\n",
       "      <td>2021-11-01</td>\n",
       "      <td>2020-11-01</td>\n",
       "      <td>2021-10-31</td>\n",
       "      <td>458550</td>\n",
       "      <td>1431666</td>\n",
       "      <td>4308453</td>\n",
       "      <td>1</td>\n",
       "      <td>3</td>\n",
       "      <td>8</td>\n",
       "    </tr>\n",
       "    <tr>\n",
       "      <th>66</th>\n",
       "      <td>2021-12-01</td>\n",
       "      <td>2020-12-01</td>\n",
       "      <td>2021-11-30</td>\n",
       "      <td>480030</td>\n",
       "      <td>1477286</td>\n",
       "      <td>4406727</td>\n",
       "      <td>1</td>\n",
       "      <td>3</td>\n",
       "      <td>8</td>\n",
       "    </tr>\n",
       "    <tr>\n",
       "      <th>67</th>\n",
       "      <td>2022-01-01</td>\n",
       "      <td>2021-01-01</td>\n",
       "      <td>2021-12-31</td>\n",
       "      <td>512593</td>\n",
       "      <td>1564760</td>\n",
       "      <td>4559700</td>\n",
       "      <td>1</td>\n",
       "      <td>3</td>\n",
       "      <td>8</td>\n",
       "    </tr>\n",
       "    <tr>\n",
       "      <th>68</th>\n",
       "      <td>2022-02-01</td>\n",
       "      <td>2021-02-01</td>\n",
       "      <td>2022-01-31</td>\n",
       "      <td>530397</td>\n",
       "      <td>1611683</td>\n",
       "      <td>4622174</td>\n",
       "      <td>2</td>\n",
       "      <td>3</td>\n",
       "      <td>8</td>\n",
       "    </tr>\n",
       "    <tr>\n",
       "      <th>69</th>\n",
       "      <td>2022-03-01</td>\n",
       "      <td>2021-03-01</td>\n",
       "      <td>2022-02-28</td>\n",
       "      <td>547219</td>\n",
       "      <td>1658098</td>\n",
       "      <td>4714276</td>\n",
       "      <td>2</td>\n",
       "      <td>3</td>\n",
       "      <td>8</td>\n",
       "    </tr>\n",
       "    <tr>\n",
       "      <th>70</th>\n",
       "      <td>2022-04-01</td>\n",
       "      <td>2021-04-01</td>\n",
       "      <td>2022-03-31</td>\n",
       "      <td>579798</td>\n",
       "      <td>1728458</td>\n",
       "      <td>4872096</td>\n",
       "      <td>2</td>\n",
       "      <td>3</td>\n",
       "      <td>9</td>\n",
       "    </tr>\n",
       "    <tr>\n",
       "      <th>71</th>\n",
       "      <td>2022-05-01</td>\n",
       "      <td>2021-05-01</td>\n",
       "      <td>2022-04-30</td>\n",
       "      <td>596704</td>\n",
       "      <td>1803707</td>\n",
       "      <td>4996775</td>\n",
       "      <td>2</td>\n",
       "      <td>4</td>\n",
       "      <td>9</td>\n",
       "    </tr>\n",
       "    <tr>\n",
       "      <th>72</th>\n",
       "      <td>2022-06-01</td>\n",
       "      <td>2021-06-01</td>\n",
       "      <td>2022-05-31</td>\n",
       "      <td>617182</td>\n",
       "      <td>1919287</td>\n",
       "      <td>5222918</td>\n",
       "      <td>2</td>\n",
       "      <td>4</td>\n",
       "      <td>9</td>\n",
       "    </tr>\n",
       "    <tr>\n",
       "      <th>73</th>\n",
       "      <td>2022-07-01</td>\n",
       "      <td>2021-07-01</td>\n",
       "      <td>2022-06-30</td>\n",
       "      <td>612087</td>\n",
       "      <td>1961551</td>\n",
       "      <td>5418590</td>\n",
       "      <td>2</td>\n",
       "      <td>4</td>\n",
       "      <td>10</td>\n",
       "    </tr>\n",
       "  </tbody>\n",
       "</table>\n",
       "</div>"
      ],
      "text/plain": [
       "       ORDR_DE INTERVAL_START_DE INTERVAL_END_DE  ALL_USER_GDS_ORDR_GRAMT_Q1  \\\n",
       "64  2021-10-01        2020-10-01      2021-09-30                      443391   \n",
       "65  2021-11-01        2020-11-01      2021-10-31                      458550   \n",
       "66  2021-12-01        2020-12-01      2021-11-30                      480030   \n",
       "67  2022-01-01        2021-01-01      2021-12-31                      512593   \n",
       "68  2022-02-01        2021-02-01      2022-01-31                      530397   \n",
       "69  2022-03-01        2021-03-01      2022-02-28                      547219   \n",
       "70  2022-04-01        2021-04-01      2022-03-31                      579798   \n",
       "71  2022-05-01        2021-05-01      2022-04-30                      596704   \n",
       "72  2022-06-01        2021-06-01      2022-05-31                      617182   \n",
       "73  2022-07-01        2021-07-01      2022-06-30                      612087   \n",
       "\n",
       "    ALL_USER_GDS_ORDR_GRAMT_Q2  ALL_USER_GDS_ORDR_GRAMT_Q3  \\\n",
       "64                     1406268                     4200380   \n",
       "65                     1431666                     4308453   \n",
       "66                     1477286                     4406727   \n",
       "67                     1564760                     4559700   \n",
       "68                     1611683                     4622174   \n",
       "69                     1658098                     4714276   \n",
       "70                     1728458                     4872096   \n",
       "71                     1803707                     4996775   \n",
       "72                     1919287                     5222918   \n",
       "73                     1961551                     5418590   \n",
       "\n",
       "    ALL_USER_PURCHASE_CNT_Q1  ALL_USER_PURCHASE_CNT_Q2  \\\n",
       "64                         1                         3   \n",
       "65                         1                         3   \n",
       "66                         1                         3   \n",
       "67                         1                         3   \n",
       "68                         2                         3   \n",
       "69                         2                         3   \n",
       "70                         2                         3   \n",
       "71                         2                         4   \n",
       "72                         2                         4   \n",
       "73                         2                         4   \n",
       "\n",
       "    ALL_USER_PURCHASE_CNT_Q3  \n",
       "64                         8  \n",
       "65                         8  \n",
       "66                         8  \n",
       "67                         8  \n",
       "68                         8  \n",
       "69                         8  \n",
       "70                         9  \n",
       "71                         9  \n",
       "72                         9  \n",
       "73                        10  "
      ]
     },
     "execution_count": 19,
     "metadata": {},
     "output_type": "execute_result"
    }
   ],
   "source": [
    "result_pdf.tail(10)"
   ]
  },
  {
   "cell_type": "markdown",
   "id": "c6864e90-aec1-47e9-ba93-430bdf025f5b",
   "metadata": {},
   "source": [
    "# Stop SparkSession"
   ]
  },
  {
   "cell_type": "code",
   "execution_count": 20,
   "id": "e44ed214-b481-4ef2-8d3a-4a5fb731170f",
   "metadata": {},
   "outputs": [],
   "source": [
    "spark.stop()"
   ]
  }
 ],
 "metadata": {
  "kernelspec": {
   "display_name": "Python 3 (ipykernel)",
   "language": "python",
   "name": "python3"
  },
  "language_info": {
   "codemirror_mode": {
    "name": "ipython",
    "version": 3
   },
   "file_extension": ".py",
   "mimetype": "text/x-python",
   "name": "python",
   "nbconvert_exporter": "python",
   "pygments_lexer": "ipython3",
   "version": "3.11.6"
  }
 },
 "nbformat": 4,
 "nbformat_minor": 5
}
