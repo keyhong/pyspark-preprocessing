{
 "cells": [
  {
   "cell_type": "markdown",
   "id": "7c9f6328-ce39-4355-8035-7de376358dad",
   "metadata": {},
   "source": [
    "# Packages Loading"
   ]
  },
  {
   "cell_type": "code",
   "execution_count": 17,
   "id": "f5b029de-2372-4ff8-8227-445dea7cf6c1",
   "metadata": {},
   "outputs": [],
   "source": [
    "from dateutil.relativedelta import relativedelta\n",
    "from datetime import datetime as dt\n",
    "import os\n",
    "\n",
    "import pandas as pd\n",
    "from pyspark.sql import SparkSession\n",
    "import pyspark.sql.functions as F\n",
    "from pyspark.sql.types import StructType, StructField, IntegerType, DoubleType, DateType\n",
    "from pyspark.sql.window import Window"
   ]
  },
  {
   "cell_type": "markdown",
   "id": "91e13149-a460-4a86-8cfc-8c84041c0972",
   "metadata": {},
   "source": [
    "# Spark Config Setting"
   ]
  },
  {
   "cell_type": "code",
   "execution_count": 18,
   "id": "f1577972-6da0-4a37-91ab-f27a72e71f58",
   "metadata": {},
   "outputs": [],
   "source": [
    "SPARK_JAR_DIR = os.getenv(\"SPARK_JAR_DIR\", \"/opt/spark/jars\")\n",
    "\n",
    "SPARK_STAND_ALONE_CORES = {\n",
    "    \"spark.cores.max\": 3\n",
    "}\n",
    "\n",
    "SPARK_DRIVER_CONFIGS = {\n",
    "    \"spark.driver.memory\": \"1g\"\n",
    "}\n",
    "\n",
    "SPARK_EXECUTOR_CONFIGS = {\n",
    "    \"spark.executor.cores\": 1,\n",
    "    \"spark.executor.instances\": 1,\n",
    "    \"spark.executor.memory\": \"1g\",\n",
    "}\n",
    "\n",
    "spark = SparkSession.builder \\\n",
    "    .appName(\"etl_snapshot\") \\\n",
    "    .master(\"spark://spark-master:7077\") \\\n",
    "    .config(\"spark.jars\", f\"{SPARK_JAR_DIR}/mysql-connector-java-8.0.28.jar\") \\\n",
    "    .config(\"spark.ui.port\", \"4040\") \\\n",
    "    .config(map=SPARK_DRIVER_CONFIGS) \\\n",
    "    .config(map=SPARK_EXECUTOR_CONFIGS) \\\n",
    "    .config(map=SPARK_STAND_ALONE_CORES) \\\n",
    "    .getOrCreate()\n",
    "\n",
    "spark.sparkContext.setJobGroup(\"snap_monthly_user_repurchase_cycle_hist\", \"The overall median of the average repurchase cycle per user over one year\", interruptOnCancel=False)"
   ]
  },
  {
   "cell_type": "markdown",
   "id": "fc6dfeb9-6d23-4f8d-be28-24cbd385427a",
   "metadata": {},
   "source": [
    "# RDB Connection Info"
   ]
  },
  {
   "cell_type": "code",
   "execution_count": 19,
   "id": "bf98fa3d-a5f9-496d-bf2b-dcb776fde613",
   "metadata": {},
   "outputs": [],
   "source": [
    "DB_CONN_INFO = {\n",
    "    \"user\": \"root\",\n",
    "    \"password\": \"root\",\n",
    "    \"url\": \"jdbc:mysql://mysql:3306/mysql\",\n",
    "    \"driver\": \"com.mysql.cj.jdbc.Driver\"\n",
    "}"
   ]
  },
  {
   "cell_type": "markdown",
   "id": "c1259bd8-23a8-4762-9c03-bebd6c95ae74",
   "metadata": {},
   "source": [
    "# Data Sourcing"
   ]
  },
  {
   "cell_type": "markdown",
   "id": "e62a435f-9279-4b95-a929-cb2f04687f55",
   "metadata": {},
   "source": [
    "### 1. 검색 조건 일자 세팅 (Delta Load)"
   ]
  },
  {
   "cell_type": "code",
   "execution_count": 20,
   "id": "f29d98ad-54a6-4511-bbb0-9e4f0b8f0871",
   "metadata": {},
   "outputs": [],
   "source": [
    "start_de = '2016-06-01'\n",
    "end_de = '2022-07-31'"
   ]
  },
  {
   "cell_type": "markdown",
   "id": "a60d8e13-6c33-4311-96c2-4256c13b868c",
   "metadata": {},
   "source": [
    "### 검색 조건을 넣어 주문데이터의 유저별 주문일자의 LAG와 그 차이 일수를 산출하는 쿼리 실행 (동일 날짜에 여러 번 구매는 한 건으로만 카운팅하기 위해 제거)"
   ]
  },
  {
   "cell_type": "code",
   "execution_count": 21,
   "id": "5a4e63d6-dac3-407b-8bf3-59114a83ccab",
   "metadata": {},
   "outputs": [],
   "source": [
    "source_sql = f\"\"\"\n",
    "    SELECT *\n",
    "    FROM (\n",
    "        SELECT CUST_ID\n",
    "             , LAG(ORDR_DE) OVER (PARTITION BY CUST_ID ORDER BY ORDR_DE) AS PRIOR_PURCHASE\n",
    "             , ORDR_DE \n",
    "             , DATEDIFF(ORDR_DE, LAG(ORDR_DE) OVER (PARTITION BY CUST_ID ORDER BY ORDR_DE)) AS REPURCHASE_CYCLE\n",
    "        FROM dm.dm_f_ordr\n",
    "        WHERE ordr_de BETWEEN '{start_de}' AND '{end_de}'\n",
    "    ) AS cust_repurchase\n",
    "    WHERE PRIOR_PURCHASE != 0\n",
    "\"\"\""
   ]
  },
  {
   "cell_type": "code",
   "execution_count": 22,
   "id": "a27a94b4-03ab-4840-a089-cf30abc7e9ac",
   "metadata": {},
   "outputs": [],
   "source": [
    "# 검색할 범주의 전체 행의 개수 산출 (파티션 수를 균등하게 분할하여 읽기 위한 전체 개수 탐색)\n",
    "sdf = spark.read.format(\"jdbc\") \\\n",
    "    .options(**DB_CONN_INFO) \\\n",
    "    .option(\"query\", source_sql) \\\n",
    "    .load()"
   ]
  },
  {
   "cell_type": "code",
   "execution_count": 23,
   "id": "5eb3b4bc-c947-4837-912c-6097476692ab",
   "metadata": {},
   "outputs": [
    {
     "data": {
      "text/plain": [
       "DataFrame[CUST_ID: int, PRIOR_PURCHASE: date, ORDR_DE: date, REPURCHASE_CYCLE: int]"
      ]
     },
     "execution_count": 23,
     "metadata": {},
     "output_type": "execute_result"
    }
   ],
   "source": [
    "sdf.cache()"
   ]
  },
  {
   "cell_type": "markdown",
   "id": "1d39bb72-aead-479c-89a5-bb7e40307ef2",
   "metadata": {},
   "source": [
    "# 매일 월별 스냅샷 쿼리 (멱등성 처리)"
   ]
  },
  {
   "cell_type": "code",
   "execution_count": 24,
   "id": "0682cc39-7365-4630-9d30-8cecbe212dcf",
   "metadata": {
    "scrolled": true
   },
   "outputs": [],
   "source": [
    "date_range = []\n",
    "\n",
    "for dt in pd.date_range(start=start_de, end=end_de, freq='MS'):\n",
    "    snapshot_stdr_de = dt.date() \n",
    "    one_year_ago_de = snapshot_stdr_de - relativedelta(years=1) # 1년 전의 날짜 구하기\n",
    "    one_day_before_de = snapshot_stdr_de - relativedelta(days=1) # 하루 전의 날짜 구하기\n",
    "\n",
    "    date_range.append({\n",
    "        \"snapshot_stdr_de\": snapshot_stdr_de,\n",
    "        \"one_year_ago_de\": one_year_ago_de,\n",
    "        \"one_day_before_de\": one_day_before_de\n",
    "    })"
   ]
  },
  {
   "cell_type": "code",
   "execution_count": 25,
   "id": "72fc1a6c-2d66-468f-bf23-8db868150c9c",
   "metadata": {},
   "outputs": [],
   "source": [
    "schema = StructType([\n",
    "    StructField(\"SNAPSHOT_STDR_DE\", DateType(), False),\n",
    "    StructField(\"INTERVAL_START_DE\", DateType(), False),\n",
    "    StructField(\"INTERVAL_END_DE\", DateType(), False),\n",
    "    StructField(\"ALL_REPURCHASE_CYCLE_MEDIAN\", IntegerType(), True)\n",
    "])\n",
    "\n",
    "# 빈 DataFrame 생성\n",
    "result_sdf = spark.createDataFrame(spark.sparkContext.emptyRDD(), schema)\n",
    "\n",
    "for row in date_range:\n",
    "\n",
    "    sdf_2 = sdf.filter(F.col(\"ORDR_DE\").between(row[\"one_year_ago_de\"], row[\"one_day_before_de\"]))\n",
    "\n",
    "    sdf_3 = sdf_2.withColumn(\"row_num\", F.row_number().over(Window.partitionBy(\"CUST_ID\").orderBy(\"ORDR_DE\")))\n",
    "\n",
    "    sdf_4 = sdf_3.filter(F.col(\"row_num\") > 1)\n",
    "\n",
    "    sdf_5 = sdf_4.groupBy(\"CUST_ID\").agg(F.avg(\"REPURCHASE_CYCLE\").alias(\"USER_REPUCHASE_CYCLE_AVG\"))\n",
    "\n",
    "    sdf_6 = sdf_5.agg(F.ceil(F.median(\"USER_REPUCHASE_CYCLE_AVG\")).alias(\"ALL_REPURCHASE_CYCLE_MEDIAN\"))\n",
    "\n",
    "    sdf_7 = sdf_6.withColumn(\"SNAPSHOT_STDR_DE\", F.lit(row[\"snapshot_stdr_de\"]).cast(DateType())) \\\n",
    "        .withColumn(\"INTERVAL_START_DE\", F.lit(row[\"one_year_ago_de\"]).cast(DateType())) \\\n",
    "        .withColumn(\"INTERVAL_END_DE\", F.lit(row[\"one_day_before_de\"]).cast(DateType()))\n",
    "    \n",
    "    result_sdf = result_sdf.union(sdf_7.select([\"SNAPSHOT_STDR_DE\", \"INTERVAL_START_DE\", \"INTERVAL_END_DE\", \"ALL_REPURCHASE_CYCLE_MEDIAN\"]))"
   ]
  },
  {
   "cell_type": "code",
   "execution_count": 26,
   "id": "03b3be6d-3426-4a32-b602-4b9969b2b56b",
   "metadata": {},
   "outputs": [
    {
     "name": "stdout",
     "output_type": "stream",
     "text": [
      "+----------------+-----------------+---------------+---------------------------+\n",
      "|SNAPSHOT_STDR_DE|INTERVAL_START_DE|INTERVAL_END_DE|ALL_REPURCHASE_CYCLE_MEDIAN|\n",
      "+----------------+-----------------+---------------+---------------------------+\n",
      "|      2016-06-01|       2015-06-01|     2016-05-31|                       NULL|\n",
      "|      2016-07-01|       2015-07-01|     2016-06-30|                       NULL|\n",
      "|      2016-08-01|       2015-08-01|     2016-07-31|                          9|\n",
      "|      2016-09-01|       2015-09-01|     2016-08-31|                         12|\n",
      "|      2016-10-01|       2015-10-01|     2016-09-30|                         18|\n",
      "|      2016-11-01|       2015-11-01|     2016-10-31|                         20|\n",
      "|      2016-12-01|       2015-12-01|     2016-11-30|                         25|\n",
      "|      2017-01-01|       2016-01-01|     2016-12-31|                         27|\n",
      "|      2017-02-01|       2016-02-01|     2017-01-31|                         30|\n",
      "|      2017-03-01|       2016-03-01|     2017-02-28|                         32|\n",
      "|      2017-04-01|       2016-04-01|     2017-03-31|                         33|\n",
      "|      2017-05-01|       2016-05-01|     2017-04-30|                         34|\n",
      "|      2017-06-01|       2016-06-01|     2017-05-31|                         36|\n",
      "|      2017-07-01|       2016-07-01|     2017-06-30|                         37|\n",
      "|      2017-08-01|       2016-08-01|     2017-07-31|                         39|\n",
      "|      2017-09-01|       2016-09-01|     2017-08-31|                         40|\n",
      "|      2017-10-01|       2016-10-01|     2017-09-30|                         41|\n",
      "|      2017-11-01|       2016-11-01|     2017-10-31|                         42|\n",
      "|      2017-12-01|       2016-12-01|     2017-11-30|                         43|\n",
      "|      2018-01-01|       2017-01-01|     2017-12-31|                         45|\n",
      "|      2018-02-01|       2017-02-01|     2018-01-31|                         46|\n",
      "|      2018-03-01|       2017-03-01|     2018-02-28|                         47|\n",
      "|      2018-04-01|       2017-04-01|     2018-03-31|                         48|\n",
      "|      2018-05-01|       2017-05-01|     2018-04-30|                         49|\n",
      "|      2018-06-01|       2017-06-01|     2018-05-31|                         50|\n",
      "|      2018-07-01|       2017-07-01|     2018-06-30|                         50|\n",
      "|      2018-08-01|       2017-08-01|     2018-07-31|                         52|\n",
      "|      2018-09-01|       2017-09-01|     2018-08-31|                         52|\n",
      "|      2018-10-01|       2017-10-01|     2018-09-30|                         51|\n",
      "|      2018-11-01|       2017-11-01|     2018-10-31|                         51|\n",
      "|      2018-12-01|       2017-12-01|     2018-11-30|                         53|\n",
      "|      2019-01-01|       2018-01-01|     2018-12-31|                         53|\n",
      "|      2019-02-01|       2018-02-01|     2019-01-31|                         54|\n",
      "|      2019-03-01|       2018-03-01|     2019-02-28|                         54|\n",
      "|      2019-04-01|       2018-04-01|     2019-03-31|                         55|\n",
      "|      2019-05-01|       2018-05-01|     2019-04-30|                         55|\n",
      "|      2019-06-01|       2018-06-01|     2019-05-31|                         55|\n",
      "|      2019-07-01|       2018-07-01|     2019-06-30|                         55|\n",
      "|      2019-08-01|       2018-08-01|     2019-07-31|                         56|\n",
      "|      2019-09-01|       2018-09-01|     2019-08-31|                         56|\n",
      "|      2019-10-01|       2018-10-01|     2019-09-30|                         56|\n",
      "|      2019-11-01|       2018-11-01|     2019-10-31|                         56|\n",
      "|      2019-12-01|       2018-12-01|     2019-11-30|                         56|\n",
      "|      2020-01-01|       2019-01-01|     2019-12-31|                         56|\n",
      "|      2020-02-01|       2019-02-01|     2020-01-31|                         57|\n",
      "|      2020-03-01|       2019-03-01|     2020-02-29|                         57|\n",
      "|      2020-04-01|       2019-04-01|     2020-03-31|                         57|\n",
      "|      2020-05-01|       2019-05-01|     2020-04-30|                         58|\n",
      "|      2020-06-01|       2019-06-01|     2020-05-31|                         57|\n",
      "|      2020-07-01|       2019-07-01|     2020-06-30|                         58|\n",
      "|      2020-08-01|       2019-08-01|     2020-07-31|                         58|\n",
      "|      2020-09-01|       2019-09-01|     2020-08-31|                         58|\n",
      "|      2020-10-01|       2019-10-01|     2020-09-30|                         57|\n",
      "|      2020-11-01|       2019-11-01|     2020-10-31|                         57|\n",
      "|      2020-12-01|       2019-12-01|     2020-11-30|                         56|\n",
      "|      2021-01-01|       2020-01-01|     2020-12-31|                         57|\n",
      "|      2021-02-01|       2020-02-01|     2021-01-31|                         57|\n",
      "|      2021-03-01|       2020-03-01|     2021-02-28|                         57|\n",
      "|      2021-04-01|       2020-04-01|     2021-03-31|                         57|\n",
      "|      2021-05-01|       2020-05-01|     2021-04-30|                         57|\n",
      "|      2021-06-01|       2020-06-01|     2021-05-31|                         57|\n",
      "|      2021-07-01|       2020-07-01|     2021-06-30|                         57|\n",
      "|      2021-08-01|       2020-08-01|     2021-07-31|                         57|\n",
      "|      2021-09-01|       2020-09-01|     2021-08-31|                         57|\n",
      "|      2021-10-01|       2020-10-01|     2021-09-30|                         56|\n",
      "|      2021-11-01|       2020-11-01|     2021-10-31|                         55|\n",
      "|      2021-12-01|       2020-12-01|     2021-11-30|                         55|\n",
      "|      2022-01-01|       2021-01-01|     2021-12-31|                         56|\n",
      "|      2022-02-01|       2021-02-01|     2022-01-31|                         57|\n",
      "|      2022-03-01|       2021-03-01|     2022-02-28|                         56|\n",
      "|      2022-04-01|       2021-04-01|     2022-03-31|                         55|\n",
      "|      2022-05-01|       2021-05-01|     2022-04-30|                         53|\n",
      "|      2022-06-01|       2021-06-01|     2022-05-31|                         51|\n",
      "|      2022-07-01|       2021-07-01|     2022-06-30|                         49|\n",
      "+----------------+-----------------+---------------+---------------------------+\n",
      "\n"
     ]
    }
   ],
   "source": [
    "result_sdf.show(n=100)"
   ]
  },
  {
   "cell_type": "markdown",
   "id": "b94e79bd-8b08-435a-be4e-963705d335bf",
   "metadata": {},
   "source": [
    "# pyspark.sql.DataFrame을 pandas.DataFrame 으로 변환"
   ]
  },
  {
   "cell_type": "code",
   "execution_count": 27,
   "id": "b35bed45-fe29-4efa-958f-dcff5ebc55b7",
   "metadata": {
    "scrolled": true
   },
   "outputs": [],
   "source": [
    "result_pdf = result_sdf.toPandas()"
   ]
  },
  {
   "cell_type": "code",
   "execution_count": 28,
   "id": "779b02b0-4091-4fe3-a0ec-ce1a4173884d",
   "metadata": {},
   "outputs": [
    {
     "data": {
      "text/plain": [
       "SNAPSHOT_STDR_DE                object\n",
       "INTERVAL_START_DE               object\n",
       "INTERVAL_END_DE                 object\n",
       "ALL_REPURCHASE_CYCLE_MEDIAN    float64\n",
       "dtype: object"
      ]
     },
     "execution_count": 28,
     "metadata": {},
     "output_type": "execute_result"
    }
   ],
   "source": [
    "result_pdf.dtypes"
   ]
  },
  {
   "cell_type": "code",
   "execution_count": 29,
   "id": "4d072fda-2a0d-4da3-817b-28e7ac3553a2",
   "metadata": {},
   "outputs": [],
   "source": [
    "date_type_cols = (\"SNAPSHOT_STDR_DE\", \"INTERVAL_START_DE\", \"INTERVAL_END_DE\")\n",
    "\n",
    "for col in date_type_cols:\n",
    "    result_pdf[col] = pd.to_datetime(result_pdf[col])"
   ]
  },
  {
   "cell_type": "markdown",
   "id": "77e0f887-7966-40b7-9564-3da2e4595c43",
   "metadata": {},
   "source": [
    "## 22.07 스냅샷 (21.07~22.06)의 (고객별 평균 재구매주기의 전체 중앙값)의 이동평균값 산출 "
   ]
  },
  {
   "cell_type": "code",
   "execution_count": 30,
   "id": "b5582179-82dd-4601-a930-8499c78ae2df",
   "metadata": {},
   "outputs": [
    {
     "data": {
      "text/plain": [
       "73    49.0\n",
       "Name: ALL_REPURCHASE_CYCLE_MEDIAN, dtype: float64"
      ]
     },
     "execution_count": 30,
     "metadata": {},
     "output_type": "execute_result"
    }
   ],
   "source": [
    "result_pdf[result_pdf[\"SNAPSHOT_STDR_DE\"] == '2022-07-01'].ALL_REPURCHASE_CYCLE_MEDIAN"
   ]
  },
  {
   "cell_type": "code",
   "execution_count": 31,
   "id": "0c5547c9-1333-452c-a8c2-7ad0bd5f7a12",
   "metadata": {},
   "outputs": [],
   "source": [
    "result_pdf.to_excel(\"snap_monthly_all_user_repurchase_cycle_median.xlsx\", index=False)"
   ]
  },
  {
   "cell_type": "markdown",
   "id": "51a9a231-602a-45f0-b316-a4bd597d2453",
   "metadata": {},
   "source": [
    "# Stop SparkSession"
   ]
  },
  {
   "cell_type": "code",
   "execution_count": 32,
   "id": "27b4c8df-3f66-483c-880b-f5202a8835e7",
   "metadata": {},
   "outputs": [],
   "source": [
    "spark.stop()"
   ]
  }
 ],
 "metadata": {
  "kernelspec": {
   "display_name": "Python 3 (ipykernel)",
   "language": "python",
   "name": "python3"
  },
  "language_info": {
   "codemirror_mode": {
    "name": "ipython",
    "version": 3
   },
   "file_extension": ".py",
   "mimetype": "text/x-python",
   "name": "python",
   "nbconvert_exporter": "python",
   "pygments_lexer": "ipython3",
   "version": "3.11.6"
  }
 },
 "nbformat": 4,
 "nbformat_minor": 5
}
